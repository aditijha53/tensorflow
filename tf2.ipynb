{
  "nbformat": 4,
  "nbformat_minor": 0,
  "metadata": {
    "colab": {
      "provenance": [],
      "authorship_tag": "ABX9TyNGek/HSnJeq4XZPC5YBSMn",
      "include_colab_link": true
    },
    "kernelspec": {
      "name": "python3",
      "display_name": "Python 3"
    },
    "language_info": {
      "name": "python"
    }
  },
  "cells": [
    {
      "cell_type": "markdown",
      "metadata": {
        "id": "view-in-github",
        "colab_type": "text"
      },
      "source": [
        "<a href=\"https://colab.research.google.com/github/aditijha53/tensorflow/blob/main/tf2.ipynb\" target=\"_parent\"><img src=\"https://colab.research.google.com/assets/colab-badge.svg\" alt=\"Open In Colab\"/></a>"
      ]
    },
    {
      "cell_type": "code",
      "execution_count": 1,
      "metadata": {
        "id": "1zJs3HhAoyxk"
      },
      "outputs": [],
      "source": [
        "import tensorflow as tf"
      ]
    },
    {
      "cell_type": "code",
      "source": [
        "# Load the Fashion MNIST dataset\n",
        "fmnist = tf.keras.datasets.fashion_mnist"
      ],
      "metadata": {
        "id": "XzQ18o2ItkBK"
      },
      "execution_count": 2,
      "outputs": []
    },
    {
      "cell_type": "code",
      "source": [
        "# Load the training and test split of the Fashion MNIST dataset\n",
        "(training_images, training_labels), (test_images, test_labels) = fmnist.load_data()"
      ],
      "metadata": {
        "colab": {
          "base_uri": "https://localhost:8080/"
        },
        "id": "gTAEHgkZtnUf",
        "outputId": "0c7e2afa-c619-4ed1-b94d-12cb18a2c4c4"
      },
      "execution_count": 3,
      "outputs": [
        {
          "output_type": "stream",
          "name": "stdout",
          "text": [
            "Downloading data from https://storage.googleapis.com/tensorflow/tf-keras-datasets/train-labels-idx1-ubyte.gz\n",
            "29515/29515 [==============================] - 0s 0us/step\n",
            "Downloading data from https://storage.googleapis.com/tensorflow/tf-keras-datasets/train-images-idx3-ubyte.gz\n",
            "26421880/26421880 [==============================] - 0s 0us/step\n",
            "Downloading data from https://storage.googleapis.com/tensorflow/tf-keras-datasets/t10k-labels-idx1-ubyte.gz\n",
            "5148/5148 [==============================] - 0s 0us/step\n",
            "Downloading data from https://storage.googleapis.com/tensorflow/tf-keras-datasets/t10k-images-idx3-ubyte.gz\n",
            "4422102/4422102 [==============================] - 0s 0us/step\n"
          ]
        }
      ]
    },
    {
      "cell_type": "code",
      "source": [
        "import numpy as np\n",
        "import matplotlib.pyplot as plt\n",
        "\n",
        "# You can put between 0 to 59999 here\n",
        "index = 190\n",
        "\n",
        "# Set number of characters per row when printing\n",
        "np.set_printoptions(linewidth=320)\n",
        "\n",
        "# Print the label and image\n",
        "print(f'LABEL: {training_labels[index]}')\n",
        "print(f'\\nIMAGE PIXEL ARRAY:\\n {training_images[index]}')\n",
        "\n",
        "# Visualize the image\n",
        "plt.imshow(training_images[index])"
      ],
      "metadata": {
        "colab": {
          "base_uri": "https://localhost:8080/",
          "height": 1000
        },
        "id": "y38X_WyRtz8A",
        "outputId": "07ce18e6-e16a-4299-c35f-e3f4c17154c3"
      },
      "execution_count": 6,
      "outputs": [
        {
          "output_type": "stream",
          "name": "stdout",
          "text": [
            "LABEL: 3\n",
            "\n",
            "IMAGE PIXEL ARRAY:\n",
            " [[  0   0   0   0   0   0   0   0   0   0   0  18   0   0   0   0   0   9  37   0   0   0   0   0   0   0   0   0]\n",
            " [  0   0   0   0   0   0   0   0   0 130 229 188 141 119  73 124  92 147 238 202  94   0   0   0   0   0   0   0]\n",
            " [  0   0   0   0   0   0   1   0  86 244 238 216 104 151  21 102 137 165 236 239 219   2   0   0   0   0   0   0]\n",
            " [  0   0   0   0   0   0   0   0 139 174 236 234 169  57  56  55 116 224 230 219  90  77   0   0   0   0   0   0]\n",
            " [  0   0   0   0   0   0   0   7 175 178 236 231 241   8  72   1 143 255 226 218 200 162   0   0   0   0   0   0]\n",
            " [  0   0   0   0   0   0   0  21 207 221 240 223 255 188   1  83 255 230 231 247 144  95   0   0   0   0   0   0]\n",
            " [  0   0   0   0   0   0   0  69 157 209 174 240 226 255 202 252 243 236 225 222 174 119  14   0   0   0   0   0]\n",
            " [  0   0   0   0   0   0   0  76 173 221  61 255 230 234 248 234 230 255 193  80 233 106  16   0   0   0   0   0]\n",
            " [  0   0   0   0   0   0   0 112 164 233  23 255 227 234 226 228 230 255 185   0 238 109  35   0   0   0   0   0]\n",
            " [  0   0   0   0   0   0   0  81 180 222   0 255 232 232 232 234 226 255 174   0 255 209  68   0   0   0   0   0]\n",
            " [  0   0   0   0   0   0   0 109 216 185   0 255 231 232 232 234 227 255 182   0 228 213 113   0   0   0   0   0]\n",
            " [  0   0   0   0   0   0   0  86 230 155   0 255 232 234 234 234 230 247 233   0 208 255 104   0   0   0   0   0]\n",
            " [  0   0   0   0   0   0   0 171 207  97  19 255 222 234 234 232 232 225 255   0 148 255  96   0   0   0   0   0]\n",
            " [  0   0   0   0   0   0  11 189 240  68 158 255 223 235 234 233 233 222 255  75  89 246  75   0   0   0   0   0]\n",
            " [  0   0   0   0   0   0   1 207 255  50 223 247 228 233 233 232 233 223 255 160  50 255 196   0   0   0   0   0]\n",
            " [  0   0   0   0   0   0  31 109   0   0 255 237 232 235 235 235 234 227 252 232   0  16 116   0   0   0   0   0]\n",
            " [  0   0   0   0   0   0   0   0   0   4 255 231 233 236 231 234 235 227 235 255   0   0   0   0   0   0   0   0]\n",
            " [  0   0   0   0   0   0   0   3   0  20 255 230 233 236 231 234 236 228 234 255   0   0   4   0   0   0   0   0]\n",
            " [  0   0   0   0   0   0   0   5   0  25 255 231 233 235 234 235 233 228 233 255   0   0   2   0   0   0   0   0]\n",
            " [  0   0   0   0   0   0   0   3   0  23 238 231 235 232 234 234 234 229 233 255   0   0   2   0   0   0   0   0]\n",
            " [  0   0   0   0   0   0   0   3   0  22 255 230 234 232 234 235 233 231 238 255   0   0   1   0   0   0   0   0]\n",
            " [  0   0   0   0   0   0   0   3   0   1 255 232 232 230 234 234 233 231 238 239   0   0   0   0   0   0   0   0]\n",
            " [  0   0   0   0   0   0   0   2   0   0 255 235 228 227 235 230 234 228 242 215   0   0   0   0   0   0   0   0]\n",
            " [  0   0   0   0   0   0   0   1   0   0 242 238 226 232 236 233 236 226 247 172   0   0   0   0   0   0   0   0]\n",
            " [  0   0   0   0   0   0   0   0   0   0 208 241 225 237 238 235 237 229 250 136   0   2   0   0   0   0   0   0]\n",
            " [  0   0   0   0   0   0   0   0   0   0 195 242 225 227 226 225 230 227 246 104   0   4   0   0   0   0   0   0]\n",
            " [  0   0   0   0   0   0   0   0   1   0 193 255 241 255 255 255 255 244 255  74   0   4   0   0   0   0   0   0]\n",
            " [  0   0   0   0   0   0   0   0   0   0  19  81  90 111 144 146 126 123 121   0   0   0   0   0   0   0   0   0]]\n"
          ]
        },
        {
          "output_type": "execute_result",
          "data": {
            "text/plain": [
              "<matplotlib.image.AxesImage at 0x780dd07b1870>"
            ]
          },
          "metadata": {},
          "execution_count": 6
        },
        {
          "output_type": "display_data",
          "data": {
            "text/plain": [
              "<Figure size 640x480 with 1 Axes>"
            ],
            "image/png": "[encoded data removed]"
          },
          "metadata": {}
        }
      ]
    },
    {
      "cell_type": "code",
      "source": [
        "# Normalize the pixel values of the train and test images\n",
        "training_images  = training_images / 255.0\n",
        "test_images = test_images / 255.0"
      ],
      "metadata": {
        "id": "s8w6zlY3t_nr"
      },
      "execution_count": 7,
      "outputs": []
    },
    {
      "cell_type": "code",
      "source": [
        "# Build the classification model\n",
        "model = tf.keras.models.Sequential([tf.keras.layers.Flatten(),\n",
        "                                    tf.keras.layers.Dense(128, activation=tf.nn.relu),\n",
        "                                    tf.keras.layers.Dense(10, activation=tf.nn.softmax)])"
      ],
      "metadata": {
        "id": "DfWoXLnwuHvH"
      },
      "execution_count": 8,
      "outputs": []
    },
    {
      "cell_type": "code",
      "source": [
        "# Declare sample inputs and convert to a tensor\n",
        "inputs = np.array([[1.0, 3.0, 4.0, 2.0]])\n",
        "inputs = tf.convert_to_tensor(inputs)\n",
        "print(f'input to softmax function: {inputs.numpy()}')\n",
        "\n",
        "# Feed the inputs to a softmax activation function\n",
        "outputs = tf.keras.activations.softmax(inputs)\n",
        "print(f'output of softmax function: {outputs.numpy()}')\n",
        "\n",
        "# Get the sum of all values after the softmax\n",
        "sum = tf.reduce_sum(outputs)\n",
        "print(f'sum of outputs: {sum}')\n",
        "\n",
        "# Get the index with highest value\n",
        "prediction = np.argmax(outputs)\n",
        "print(f'class with highest probability: {prediction}')"
      ],
      "metadata": {
        "colab": {
          "base_uri": "https://localhost:8080/"
        },
        "id": "9Kswm74augNe",
        "outputId": "aa91bd2c-e1a8-4f42-ac9d-04fafa4f4593"
      },
      "execution_count": 9,
      "outputs": [
        {
          "output_type": "stream",
          "name": "stdout",
          "text": [
            "input to softmax function: [[1. 3. 4. 2.]]\n",
            "output of softmax function: [[0.0320586  0.23688282 0.64391426 0.08714432]]\n",
            "sum of outputs: 1.0\n",
            "class with highest probability: 2\n"
          ]
        }
      ]
    },
    {
      "cell_type": "code",
      "source": [
        "model.compile(optimizer = tf.optimizers.Adam(),\n",
        "              loss = 'sparse_categorical_crossentropy',\n",
        "              metrics=['accuracy'])\n",
        "\n",
        "model.fit(training_images, training_labels, epochs=5)"
      ],
      "metadata": {
        "colab": {
          "base_uri": "https://localhost:8080/"
        },
        "id": "oqAjqN4ouqwq",
        "outputId": "c1f60c77-4bdc-4e9c-d2b6-ad31f509a0f6"
      },
      "execution_count": 10,
      "outputs": [
        {
          "output_type": "stream",
          "name": "stdout",
          "text": [
            "Epoch 1/5\n",
            "1875/1875 [==============================] - 5s 2ms/step - loss: 0.4962 - accuracy: 0.8254\n",
            "Epoch 2/5\n",
            "1875/1875 [==============================] - 4s 2ms/step - loss: 0.3768 - accuracy: 0.8629\n",
            "Epoch 3/5\n",
            "1875/1875 [==============================] - 4s 2ms/step - loss: 0.3355 - accuracy: 0.8770\n",
            "Epoch 4/5\n",
            "1875/1875 [==============================] - 4s 2ms/step - loss: 0.3128 - accuracy: 0.8857\n",
            "Epoch 5/5\n",
            "1875/1875 [==============================] - 4s 2ms/step - loss: 0.2956 - accuracy: 0.8903\n"
          ]
        },
        {
          "output_type": "execute_result",
          "data": {
            "text/plain": [
              "<keras.src.callbacks.History at 0x780dd5483f10>"
            ]
          },
          "metadata": {},
          "execution_count": 10
        }
      ]
    },
    {
      "cell_type": "code",
      "source": [
        "# Evaluate the model on unseen data\n",
        "model.evaluate(test_images, test_labels)"
      ],
      "metadata": {
        "colab": {
          "base_uri": "https://localhost:8080/"
        },
        "id": "xYZJccB4u3_9",
        "outputId": "62eadab4-e00e-419f-8ea4-6d690c6ef966"
      },
      "execution_count": 11,
      "outputs": [
        {
          "output_type": "stream",
          "name": "stdout",
          "text": [
            "313/313 [==============================] - 0s 1ms/step - loss: 0.3372 - accuracy: 0.8799\n"
          ]
        },
        {
          "output_type": "execute_result",
          "data": {
            "text/plain": [
              "[0.33718472719192505, 0.8798999786376953]"
            ]
          },
          "metadata": {},
          "execution_count": 11
        }
      ]
    },
    {
      "cell_type": "code",
      "source": [
        "classifications = model.predict(test_images)\n",
        "\n",
        "print(classifications[0])"
      ],
      "metadata": {
        "colab": {
          "base_uri": "https://localhost:8080/"
        },
        "id": "sYpTXXJDu8R8",
        "outputId": "82800ba1-0eeb-4bef-8de0-260f2518105d"
      },
      "execution_count": 12,
      "outputs": [
        {
          "output_type": "stream",
          "name": "stdout",
          "text": [
            "313/313 [==============================] - 1s 1ms/step\n",
            "[3.3055815e-07 6.6333548e-08 3.0459862e-08 1.0485962e-09 2.8986612e-08 1.7713772e-02 8.8212538e-08 2.5374159e-02 1.8270613e-06 9.5690966e-01]\n"
          ]
        }
      ]
    },
    {
      "cell_type": "code",
      "source": [
        "print(test_labels[0])"
      ],
      "metadata": {
        "colab": {
          "base_uri": "https://localhost:8080/"
        },
        "id": "nmpIkUBXvCH-",
        "outputId": "5145be10-fecc-4fc5-8dfe-a7fd7a2863ba"
      },
      "execution_count": 13,
      "outputs": [
        {
          "output_type": "stream",
          "name": "stdout",
          "text": [
            "9\n"
          ]
        }
      ]
    }
  ]
}