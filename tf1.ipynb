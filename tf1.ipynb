{
  "nbformat": 4,
  "nbformat_minor": 0,
  "metadata": {
    "colab": {
      "provenance": [],
      "authorship_tag": "ABX9TyMdjOsZ5ocvoXoosK4SfUws",
      "include_colab_link": true
    },
    "kernelspec": {
      "name": "python3",
      "display_name": "Python 3"
    },
    "language_info": {
      "name": "python"
    }
  },
  "cells": [
    {
      "cell_type": "markdown",
      "metadata": {
        "id": "view-in-github",
        "colab_type": "text"
      },
      "source": [
        "<a href=\"https://colab.research.google.com/github/aditijha53/tensorflow/blob/main/tf1.ipynb\" target=\"_parent\"><img src=\"https://colab.research.google.com/assets/colab-badge.svg\" alt=\"Open In Colab\"/></a>"
      ]
    },
    {
      "cell_type": "code",
      "execution_count": 1,
      "metadata": {
        "colab": {
          "base_uri": "https://localhost:8080/"
        },
        "id": "QGRAJMkJi6Vf",
        "outputId": "bd73d74b-24fa-4954-84eb-cc042506548d"
      },
      "outputs": [
        {
          "output_type": "stream",
          "name": "stdout",
          "text": [
            "2.14.0\n"
          ]
        }
      ],
      "source": [
        "import tensorflow as tf\n",
        "import numpy as np\n",
        "from tensorflow import keras\n",
        "\n",
        "print(tf.__version__)"
      ]
    },
    {
      "cell_type": "markdown",
      "source": [
        "**WE CREATE THE SIMPLEST NEURAL NETWORK**\n",
        "\n",
        "\n",
        "It has 1 layer and 1 neutron and input shap ehas 1 value.\n",
        "we build this model using Kera's **Sequential** class - defines the network as a sequence of layers.\n",
        "we use a single **dense** layer to build this simple NN"
      ],
      "metadata": {
        "id": "OFOYeX9tjhb9"
      }
    },
    {
      "cell_type": "code",
      "source": [
        "#buuilding a simple sequential model\n",
        "model = tf.keras.Sequential([keras.layers.Dense(units=1,input_shape=[1])])"
      ],
      "metadata": {
        "id": "d_axPw4_jUHI"
      },
      "execution_count": 2,
      "outputs": []
    },
    {
      "cell_type": "code",
      "source": [
        "#compile the model\n",
        "model.compile(optimizer = 'sgd' , loss = 'mean_squared_error')"
      ],
      "metadata": {
        "id": "1rFpq9uPjUKk"
      },
      "execution_count": 3,
      "outputs": []
    },
    {
      "cell_type": "markdown",
      "source": [
        "**PROVIDING THE DATA**"
      ],
      "metadata": {
        "id": "0tMRWu_amG1D"
      }
    },
    {
      "cell_type": "code",
      "source": [
        "# Declare model inputs and outputs for training\n",
        "xs = np.array([-1.0,  0.0, 1.0, 2.0, 3.0, 4.0], dtype=float)\n",
        "ys = np.array([-3.0, -1.0, 1.0, 3.0, 5.0, 7.0], dtype=float)"
      ],
      "metadata": {
        "id": "8Zk1G3fcmVWO"
      },
      "execution_count": 5,
      "outputs": []
    },
    {
      "cell_type": "markdown",
      "source": [
        "**TRAINING THE NEURAL NETWORK**\n",
        "\n",
        "the nn 'learns'the relationship between x's and y's in the **model.fit()** call.\n",
        "\n",
        "This is where it will go through the loop we spoke about above: making a guess, measuring how good or bad it is (aka the loss), using the optimizer to make another guess etc. It will do it for the number of epochs you specify. When you run this code, you'll see the loss on the right hand side."
      ],
      "metadata": {
        "id": "t_gB7zkQlItg"
      }
    },
    {
      "cell_type": "code",
      "source": [
        "#train the model\n",
        "model.fit(xs,ys,epochs=500)"
      ],
      "metadata": {
        "id": "M6F5E5eDjUNq"
      },
      "execution_count": null,
      "outputs": []
    },
    {
      "cell_type": "code",
      "source": [
        "# Make a prediction\n",
        "print(model.predict([10.0]))"
      ],
      "metadata": {
        "colab": {
          "base_uri": "https://localhost:8080/"
        },
        "id": "OW9wC6qAjUQs",
        "outputId": "2b8b9d68-3894-4645-c7b7-3aef24ebce86"
      },
      "execution_count": 10,
      "outputs": [
        {
          "output_type": "stream",
          "name": "stdout",
          "text": [
            "1/1 [==============================] - 0s 34ms/step\n",
            "[[18.999928]]\n"
          ]
        }
      ]
    },
    {
      "cell_type": "code",
      "source": [],
      "metadata": {
        "id": "rc2ncevSjUTv"
      },
      "execution_count": null,
      "outputs": []
    },
    {
      "cell_type": "code",
      "source": [],
      "metadata": {
        "id": "S2ugzrTwjUWs"
      },
      "execution_count": null,
      "outputs": []
    },
    {
      "cell_type": "code",
      "source": [],
      "metadata": {
        "id": "HcKZVX6-jUZ0"
      },
      "execution_count": null,
      "outputs": []
    },
    {
      "cell_type": "code",
      "source": [],
      "metadata": {
        "id": "zO65NKk5jUco"
      },
      "execution_count": null,
      "outputs": []
    },
    {
      "cell_type": "code",
      "source": [],
      "metadata": {
        "id": "-K6tayxCjUf1"
      },
      "execution_count": null,
      "outputs": []
    },
    {
      "cell_type": "code",
      "source": [],
      "metadata": {
        "id": "EKxuW925jUjL"
      },
      "execution_count": null,
      "outputs": []
    },
    {
      "cell_type": "markdown",
      "source": [],
      "metadata": {
        "id": "ou7ZUTCEjgKL"
      }
    }
  ]
}